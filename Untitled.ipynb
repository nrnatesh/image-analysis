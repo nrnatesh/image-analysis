{
 "cells": [
  {
   "cell_type": "code",
   "execution_count": null,
   "metadata": {},
   "outputs": [],
   "source": [
    "import os\n",
    "import cv2\n",
    "import numpy as np\n",
    "import matplotlib\n",
    "import matplotlib.pyplot as plt\n",
    "\n",
    "if __name__==\"__main__\":\n",
    "    # Input parameters\n",
    "    image_name = os.path.join(\"/Users/nrnatesh/shenlab/Droplet-organoid/image-scripts/input_images\", \"T2.tif\")\n",
    "    output_basename = \"T2_out\"\n",
    "    output_image = os.path.join(\"output_images\", \"{}.png\".format(output_basename))\n",
    "    output_histogram = os.path.join(\"output_images\", \"{}_hist.png\".format(output_basename))\n",
    "    pixels_to_microns = 250/94 # <<<< @Naveen -- this may not be true for your images\n",
    "    max_droplet_radius = 1000 #pixels\n",
    "\n",
    "    # Reads in image\n",
    "    img = cv2.imread(image_name,0)\n",
    "    img = cv2.medianBlur(img,5)\n",
    "    cimg = cv2.cvtColor(img,cv2.COLOR_GRAY2BGR)\n",
    "\n",
    "    # Identifies circles\n",
    "    circles = cv2.HoughCircles(img,cv2.HOUGH_GRADIENT,0.4,20,minRadius = 50, maxRadius = 65)\n",
    "\n",
    "    # Draws the circles\n",
    "    circles = np.uint16(np.around(circles))\n",
    "    radii = []\n",
    "    for i in circles[0,:]:\n",
    "        # draw the outer circle\n",
    "        cv2.circle(cimg,(i[0],i[1]),i[2],(0,255,0),2)\n",
    "        # draw the center of the circle\n",
    "        cv2.circle(cimg,(i[0],i[1]),2,(0,0,255),3)\n",
    "        \n",
    "        # Convert pixels to microns\n",
    "        # 94 pixels = 250micron\n",
    "        radii.append(i[2] * pixels_to_microns)\n",
    "\n",
    "    \n",
    "    # Calculates some statistics about droplet number, size, and s.d.\n",
    "    total_droplets = len(radii)\n",
    "    mean_radius = round(np.mean(radii), 1)\n",
    "    std_dev = round(np.std(radii), 1)\n",
    "\n",
    "\n",
    "    # Draws histogram of radius sizes\n",
    "    plt.hist(radii, bins=20)\n",
    "    plt.title(\"droplets: {}, mean_radius: {}, std_dev: {}\".format(total_droplets, mean_radius, std_dev))\n",
    "    plt.xlabel(\"droplet radius (microns)\")\n",
    "    plt.ylabel(\"num droplets\")\n",
    "    plt.savefig(output_histogram)\n",
    "    plt.close()\n",
    "\n",
    "    # Writes image to file\n",
    "    cv2.imwrite(output_image,cimg)\n",
    "    cv2.waitKey(0)\n",
    "    cv2.destroyAllWindows()\n"
   ]
  }
 ],
 "metadata": {
  "kernelspec": {
   "display_name": "Python 3",
   "language": "python",
   "name": "python3"
  },
  "language_info": {
   "codemirror_mode": {
    "name": "ipython",
    "version": 3
   },
   "file_extension": ".py",
   "mimetype": "text/x-python",
   "name": "python",
   "nbconvert_exporter": "python",
   "pygments_lexer": "ipython3",
   "version": "3.6.10"
  }
 },
 "nbformat": 4,
 "nbformat_minor": 2
}
